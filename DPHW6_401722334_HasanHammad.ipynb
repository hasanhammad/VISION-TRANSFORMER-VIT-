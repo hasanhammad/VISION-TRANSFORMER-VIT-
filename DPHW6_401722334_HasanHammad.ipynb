{
  "cells": [
    {
      "cell_type": "markdown",
      "metadata": {
        "id": "x1nTxwNGJpMy"
      },
      "source": [
        "# Setup"
      ]
    },
    {
      "cell_type": "code",
      "execution_count": 1,
      "metadata": {
        "ExecuteTime": {
          "end_time": "2023-05-16T21:01:54.159064900Z",
          "start_time": "2023-05-16T21:01:52.855488600Z"
        },
        "id": "6Yu-bQAmJqDE"
      },
      "outputs": [],
      "source": [
        "import torch\n",
        "import torch.nn as nn\n",
        "import torch.optim as optim \n",
        "import torch.utils.data as data"
      ]
    },
    {
      "cell_type": "code",
      "execution_count": 2,
      "metadata": {
        "ExecuteTime": {
          "end_time": "2023-05-16T21:01:54.393098600Z",
          "start_time": "2023-05-16T21:01:54.162022200Z"
        },
        "id": "nLPfFASBSUBm"
      },
      "outputs": [],
      "source": [
        "import torchvision.datasets as datasets\n",
        "import torchvision.models as models\n",
        "import torchvision.transforms as T\n",
        "import torchvision.ops as ops"
      ]
    },
    {
      "cell_type": "code",
      "execution_count": 3,
      "metadata": {
        "ExecuteTime": {
          "end_time": "2023-05-16T21:01:54.413232400Z",
          "start_time": "2023-05-16T21:01:54.394093500Z"
        },
        "id": "05wvzjEXZ2Sc"
      },
      "outputs": [],
      "source": [
        "from PIL import Image"
      ]
    },
    {
      "cell_type": "code",
      "execution_count": 4,
      "metadata": {
        "ExecuteTime": {
          "end_time": "2023-05-16T21:01:54.791191400Z",
          "start_time": "2023-05-16T21:01:54.417772800Z"
        },
        "id": "JEpQZnRuZ2Sd"
      },
      "outputs": [],
      "source": [
        "import matplotlib.pyplot as plt"
      ]
    },
    {
      "cell_type": "code",
      "execution_count": 5,
      "metadata": {
        "ExecuteTime": {
          "end_time": "2023-05-16T21:01:54.897394400Z",
          "start_time": "2023-05-16T21:01:54.797768600Z"
        },
        "id": "szL2beqEZ2Sd"
      },
      "outputs": [],
      "source": [
        "from scipy.ndimage import zoom"
      ]
    },
    {
      "cell_type": "markdown",
      "metadata": {
        "id": "PiYufBDJZ2Sd"
      },
      "source": [
        "A couple of libraries that we need aren't preinstalled on Colab."
      ]
    },
    {
      "cell_type": "code",
      "execution_count": 6,
      "metadata": {
        "id": "OxB7YzP9BcOf"
      },
      "outputs": [],
      "source": [
        "%%capture\n",
        "!pip install pynvml\n",
        "!pip install pytorch-ignite"
      ]
    },
    {
      "cell_type": "code",
      "execution_count": 7,
      "metadata": {
        "ExecuteTime": {
          "end_time": "2023-05-16T21:01:59.219349600Z",
          "start_time": "2023-05-16T21:01:58.927834400Z"
        },
        "id": "r6-RdpncBcOf"
      },
      "outputs": [],
      "source": [
        "from ignite.engine.events import Events\n",
        "from ignite.metrics import Accuracy, RunningAverage\n",
        "from ignite.engine import create_supervised_trainer\n",
        "from ignite.engine import create_supervised_evaluator\n",
        "from ignite.contrib.handlers.tqdm_logger import ProgressBar"
      ]
    },
    {
      "cell_type": "markdown",
      "metadata": {
        "id": "eVTMe-pQJqQx"
      },
      "source": [
        "# Data\n",
        "\n",
        "For this assignment, we will be working with the **[Linnaeus 5](http://chaladze.com/l5/)** dataset. This dataset comes in several variations, each with different image sizes. We will download the 128x128 variant:"
      ]
    },
    {
      "cell_type": "code",
      "execution_count": 8,
      "metadata": {
        "colab": {
          "base_uri": "https://localhost:8080/"
        },
        "id": "fgISeRg_Jql2",
        "outputId": "2e71aff0-fd1f-4a5f-ec87-077fe934f0eb"
      },
      "outputs": [
        {
          "name": "stdout",
          "output_type": "stream",
          "text": [
            "--2023-05-29 19:36:24--  http://chaladze.com/l5/img/Linnaeus%205%20128X128.rar\n",
            "Resolving chaladze.com (chaladze.com)... 74.208.236.157, 2607:f1c0:100f:f000::25c\n",
            "Connecting to chaladze.com (chaladze.com)|74.208.236.157|:80... connected.\n",
            "HTTP request sent, awaiting response... 200 OK\n",
            "Length: 138983573 (133M) [application/rar]\n",
            "Saving to: ‘Linnaeus 5 128X128.rar’\n",
            "\n",
            "Linnaeus 5 128X128. 100%[===================>] 132.54M  13.8MB/s    in 11s     \n",
            "\n",
            "2023-05-29 19:36:35 (11.8 MB/s) - ‘Linnaeus 5 128X128.rar’ saved [138983573/138983573]\n",
            "\n"
          ]
        }
      ],
      "source": [
        "!wget -c \"http://chaladze.com/l5/img/Linnaeus%205%20128X128.rar\""
      ]
    },
    {
      "cell_type": "markdown",
      "metadata": {
        "id": "Qsb27vCmSV3U"
      },
      "source": [
        "We need to extract this file:"
      ]
    },
    {
      "cell_type": "code",
      "execution_count": 9,
      "metadata": {
        "id": "w69jJTh3SY0L"
      },
      "outputs": [],
      "source": [
        "!unrar x \"Linnaeus 5 128X128.rar\" -idq"
      ]
    },
    {
      "cell_type": "markdown",
      "metadata": {
        "id": "vaDtzGAySD2Z"
      },
      "source": [
        "which creates \"Linnaeus 5 128X128.rar\" with two subfolders: `train` and `test`. We won't be needing a validation set, so loading these two would suffice."
      ]
    },
    {
      "cell_type": "markdown",
      "metadata": {
        "id": "OSHseL4HBcOi"
      },
      "source": [
        "The dataset is not that large and ViTs are extremely data-hungry. Therefore, it's crucial that we use a technique like Transfer Learning. Otherwise, the model is unlikely to learn anything. Assuming that we will use a model that has been trained on ImageNet, we can use the following means and stds to normalize our inputs:"
      ]
    },
    {
      "cell_type": "code",
      "execution_count": 10,
      "metadata": {
        "ExecuteTime": {
          "end_time": "2023-05-16T21:02:03.862685Z",
          "start_time": "2023-05-16T21:02:03.845843Z"
        },
        "id": "GEntRbpNBcOi"
      },
      "outputs": [],
      "source": [
        "transform = T.Compose([\n",
        "    T.ToTensor(),\n",
        "    T.Normalize(\n",
        "        mean=[0.485, 0.456, 0.406],\n",
        "        std=[0.229, 0.224, 0.225],\n",
        "    )\n",
        "])"
      ]
    },
    {
      "cell_type": "markdown",
      "metadata": {
        "id": "qdkHxL9TBcOj"
      },
      "source": [
        "Putting it all together:"
      ]
    },
    {
      "cell_type": "code",
      "execution_count": 11,
      "metadata": {
        "ExecuteTime": {
          "end_time": "2023-05-16T21:02:05.336926Z",
          "start_time": "2023-05-16T21:02:05.295862600Z"
        },
        "id": "zG4EmsLnS0Oi"
      },
      "outputs": [],
      "source": [
        "train_set = datasets.ImageFolder('Linnaeus 5 128X128/train', transform=transform)\n",
        "test_set = datasets.ImageFolder('Linnaeus 5 128X128/test', transform=transform)"
      ]
    },
    {
      "cell_type": "markdown",
      "metadata": {
        "id": "dFWj2ebDJqzF"
      },
      "source": [
        "# Modeling\n",
        "\n",
        "We highly recommend checking out the [original paper](https://arxiv.org/pdf/2010.11929.pdf) and [Google's implementation](https://github.com/google-research/vision_transformer) to learn more about this model."
      ]
    },
    {
      "cell_type": "markdown",
      "metadata": {
        "id": "flZ6YmFlBcOk"
      },
      "source": [
        "## Architecture\n",
        "\n",
        "The model is quite simple to implement. You only need a `Conv2D` layer to break down the image into patches and project each individually, followed by a transformer encoder and a prediction head. Let's begin with the encoder. We have to first implement an encoder layer. \n",
        "\n",
        "The block isn't that different to a conventional encoder block in a Transformer. We only need to add one element to the outputs of its `forward()` method, and that is the attention weights. We recommend using [`nn.MultiheadAttention`](https://pytorch.org/docs/stable/generated/torch.nn.MultiheadAttention.html) which will provide you with the weights quite easily.\n",
        "\n",
        "**Do not change the name of the attributes.**"
      ]
    },
    {
      "cell_type": "code",
      "execution_count": 13,
      "metadata": {
        "ExecuteTime": {
          "end_time": "2023-05-16T21:02:09.477837800Z",
          "start_time": "2023-05-16T21:02:09.456640Z"
        },
        "id": "242kC9hVBcOk"
      },
      "outputs": [],
      "source": [
        "class EncoderBlock(nn.Module):\n",
        "\n",
        "    def __init__(self, num_heads, d_model, d_feedforward, dropout=0.0):\n",
        "        super().__init__()\n",
        "        self.num_heads = num_heads\n",
        "        # Fill in the missing modules.\n",
        "        self.ln_1 = nn.LayerNorm(d_model, eps=1e-6)\n",
        "        self.self_attention = nn.MultiheadAttention(d_model, num_heads, dropout = dropout, batch_first = True)\n",
        "        self.dropout = nn.Dropout(dropout)\n",
        "        self.ln_2 = nn.LayerNorm(d_model, eps=1e-6)\n",
        "        self.mlp = nn.Sequential(\n",
        "            nn.LazyLinear(d_model),\n",
        "            nn.GELU(),\n",
        "            nn.Dropout(dropout),\n",
        "            nn.LazyLinear(d_feedforward),\n",
        "            nn.Dropout(dropout)\n",
        "        )\n",
        "\n",
        "    def forward(self, inputs):\n",
        "        # Your code goes here.\n",
        "        # You need to output the encoded values and the attention weights.\n",
        "        x = self.ln_1(inputs)\n",
        "        x, w = self.self_attention(x, x, x, need_weights=True)\n",
        "        x = self.dropout(x)\n",
        "        x = x + inputs\n",
        "\n",
        "        y = self.ln_2(x)\n",
        "        y = self.mlp(y)\n",
        "        return x, w"
      ]
    },
    {
      "cell_type": "markdown",
      "metadata": {
        "id": "aV0Ee-yBBcOk"
      },
      "source": [
        "Next, we'll use this layer to build up the encoder network. Note that unlike conventional transformers, ViTs work better with learned positional encodings rather than generated ones. That's why we have introduced the `pos_embedding` parameter which will be optimized just like any other weight in the network."
      ]
    },
    {
      "cell_type": "code",
      "execution_count": 14,
      "metadata": {
        "ExecuteTime": {
          "end_time": "2023-05-16T21:02:11.216236500Z",
          "start_time": "2023-05-16T21:02:11.175685200Z"
        },
        "id": "dWkShThDBcOk"
      },
      "outputs": [],
      "source": [
        "class Encoder(nn.Module):\n",
        "\n",
        "    def __init__(self, seq_length, num_layers, num_heads, d_model, d_feedforward, dropout=0.0):\n",
        "        super().__init__()\n",
        "        self.pos_embedding = nn.Parameter(torch.randn(1, seq_length, d_model).normal_(std=0.02))\n",
        "        # Fill in the missing modules.\n",
        "        self.dropout = nn.Dropout(dropout)\n",
        "        self.layers = nn.ModuleList()\n",
        "        for i in range(num_layers):\n",
        "            layer = EncoderBlock(num_heads, d_model, d_feedforward, dropout)\n",
        "            self.layers.append(layer)\n",
        "        self.ln = nn.LayerNorm(d_model, eps=1e-6)\n",
        "\n",
        "    def forward(self, inputs):\n",
        "        # Your code goes here.\n",
        "        # You need to output the encoded values and a list of attention weights.\n",
        "        W = []\n",
        "        x = inputs + self.pos_embedding\n",
        "        x = self.dropout(x)\n",
        "        for layer in self.layers:\n",
        "            x, w = layer(x)  # Forward pass through each EncoderBlock\n",
        "            W.append(w)\n",
        "        x = self.ln(x)\n",
        "        return x, W"
      ]
    },
    {
      "cell_type": "markdown",
      "metadata": {
        "id": "TJjkl1jkBcOl"
      },
      "source": [
        "We're all set! Let's now build the ViT itself. We'll need another learnable parameter: the `cls` token."
      ]
    },
    {
      "cell_type": "code",
      "execution_count": 15,
      "metadata": {
        "ExecuteTime": {
          "end_time": "2023-05-16T21:02:12.404553500Z",
          "start_time": "2023-05-16T21:02:12.395588700Z"
        },
        "id": "9v-yTzL4BcOl"
      },
      "outputs": [],
      "source": [
        "class ViT(nn.Module):\n",
        "\n",
        "    def __init__(self, image_size, patch_size, num_classes, num_layers, num_heads, d_model, d_feedforward, dropout=0.0):\n",
        "        super().__init__()\n",
        "        self.patch_size = patch_size\n",
        "        seq_length = (image_size // patch_size) ** 2\n",
        "        # Fill in the missing modules.\n",
        "        seq_length += 1\n",
        "        self.conv_proj = nn.Conv2d(in_channels=3, out_channels=d_model, kernel_size=patch_size, stride=patch_size)\n",
        "        self.encoder = Encoder( seq_length, num_layers, num_heads, d_model, d_feedforward, dropout )\n",
        "        self.head = nn.Linear(d_model, num_classes) \n",
        "        self.class_token = nn.Parameter(torch.zeros(1, 1, d_model))\n",
        "\n",
        "    def process_input(self, x):\n",
        "        x = self.conv_proj(x)\n",
        "        x = x.flatten(2, 3)\n",
        "        x = x.permute(0, 2, 1)\n",
        "        return x\n",
        "\n",
        "    def forward(self, x, need_weights=False):\n",
        "        # Your code goes here.\n",
        "        # You need to output the encoded values and a list of attention weights.\n",
        "        x = self.process_input(x)\n",
        "        n = x.shape[0]\n",
        "        # Expand the class token to the full batch\n",
        "        batch_class_token = self.class_token.expand(n, -1, -1)\n",
        "        x = torch.cat([batch_class_token, x], dim=1)\n",
        "        x, W = self.encoder(x)\n",
        "        x = x[:, 0]\n",
        "        x = self.head(x)\n",
        "        return (x, W) if need_weights else x"
      ]
    },
    {
      "cell_type": "markdown",
      "metadata": {
        "id": "Tf3ftKgQBcOl"
      },
      "source": [
        "Let's now instantiate the model. The `B/32` variant is a suitable architecture for our dataset:"
      ]
    },
    {
      "cell_type": "code",
      "execution_count": 38,
      "metadata": {
        "ExecuteTime": {
          "end_time": "2023-05-16T21:02:14.241376600Z",
          "start_time": "2023-05-16T21:02:13.640840600Z"
        },
        "id": "jKP21D8gBcOl"
      },
      "outputs": [],
      "source": [
        "network = ViT(\n",
        "    image_size=128,\n",
        "    patch_size=32,\n",
        "    num_classes=5,\n",
        "    num_layers=12,\n",
        "    num_heads=12,\n",
        "    d_model=768,\n",
        "    d_feedforward=3072,\n",
        ")"
      ]
    },
    {
      "cell_type": "markdown",
      "metadata": {
        "id": "pg0Le0UiBcOl"
      },
      "source": [
        "## Transfer Learning\n",
        "\n",
        "Download the ImageNet weights from [here](https://drive.google.com/file/d/1P5iEZgLueotpOYVsRkeMxjVWf6Z0zckr/view?usp=share_link) and load them into the model:"
      ]
    },
    {
      "cell_type": "code",
      "execution_count": 39,
      "metadata": {
        "colab": {
          "base_uri": "https://localhost:8080/",
          "height": 90
        },
        "id": "9h9-OTQuBcOm",
        "outputId": "9f805f6c-3f01-4c33-9994-e01848cdff59"
      },
      "outputs": [
        {
          "name": "stdout",
          "output_type": "stream",
          "text": [
            "Downloading...\n",
            "From: https://drive.google.com/uc?id=1P5iEZgLueotpOYVsRkeMxjVWf6Z0zckr\n",
            "To: /content/state_dict.pt\n",
            "100% 353M/353M [00:04<00:00, 73.3MB/s]\n"
          ]
        }
      ],
      "source": [
        "!gdown \"1P5iEZgLueotpOYVsRkeMxjVWf6Z0zckr\""
      ]
    },
    {
      "cell_type": "code",
      "execution_count": 40,
      "metadata": {
        "ExecuteTime": {
          "end_time": "2023-05-16T21:02:18.682736400Z",
          "start_time": "2023-05-16T21:02:18.486455400Z"
        },
        "colab": {
          "base_uri": "https://localhost:8080/"
        },
        "id": "zqpBG0XNBcOm",
        "outputId": "d6a105e1-7c20-45f2-e771-7065a4a94137"
      },
      "outputs": [
        {
          "data": {
            "text/plain": [
              "<All keys matched successfully>"
            ]
          },
          "execution_count": 40,
          "metadata": {},
          "output_type": "execute_result"
        }
      ],
      "source": [
        "state_dict = torch.load('state_dict.pt')\n",
        "network.load_state_dict(state_dict)"
      ]
    },
    {
      "cell_type": "markdown",
      "metadata": {
        "id": "v9TxTkWQBcOm"
      },
      "source": [
        "## Training\n",
        "\n",
        "We will use Torch Ignite to expedite the process. Since you have already learned about this model, there isn't much for you to do here!"
      ]
    },
    {
      "cell_type": "code",
      "execution_count": 41,
      "metadata": {
        "ExecuteTime": {
          "end_time": "2023-05-16T21:02:20.142557800Z",
          "start_time": "2023-05-16T21:02:20.130936400Z"
        },
        "id": "msnpYKp4BcOm"
      },
      "outputs": [],
      "source": [
        "batch_size = 16\n",
        "learning_rate = 2e-4"
      ]
    },
    {
      "cell_type": "code",
      "execution_count": 42,
      "metadata": {
        "ExecuteTime": {
          "end_time": "2023-05-16T21:02:20.528462300Z",
          "start_time": "2023-05-16T21:02:20.509081300Z"
        },
        "id": "WTC743E7BcOm",
        "scrolled": true
      },
      "outputs": [],
      "source": [
        "train_loader = data.DataLoader(train_set, batch_size, shuffle=True)\n",
        "eval_loader = data.DataLoader(train_set, batch_size, shuffle=False)"
      ]
    },
    {
      "cell_type": "code",
      "execution_count": 43,
      "metadata": {
        "ExecuteTime": {
          "end_time": "2023-05-16T21:02:21.095895200Z",
          "start_time": "2023-05-16T21:02:20.864554400Z"
        },
        "id": "57q5LdgHBcOm"
      },
      "outputs": [],
      "source": [
        "device = torch.device('cuda')\n",
        "network = network.to(device)"
      ]
    },
    {
      "cell_type": "code",
      "execution_count": 44,
      "metadata": {
        "id": "SQq9IE5ehO5t"
      },
      "outputs": [],
      "source": [
        "# Fill in the missing modules.\n",
        "criterion = nn.CrossEntropyLoss()\n",
        "optimizer = optim.AdamW(network.parameters(), lr=learning_rate)"
      ]
    },
    {
      "cell_type": "code",
      "execution_count": 45,
      "metadata": {
        "ExecuteTime": {
          "end_time": "2023-05-16T21:02:21.832683200Z",
          "start_time": "2023-05-16T21:02:21.813524500Z"
        },
        "id": "YZEkLplKBcOn"
      },
      "outputs": [],
      "source": [
        "trainer = create_supervised_trainer(network, optimizer, criterion, device)\n",
        "evaluator = create_supervised_evaluator(network, metrics={'accuracy': Accuracy()}, device=device)"
      ]
    },
    {
      "cell_type": "code",
      "execution_count": 46,
      "metadata": {
        "ExecuteTime": {
          "end_time": "2023-05-16T21:02:22.408838300Z",
          "start_time": "2023-05-16T21:02:22.381535100Z"
        },
        "id": "BKCmJ3JkBcOn"
      },
      "outputs": [],
      "source": [
        "@trainer.on(Events.EPOCH_COMPLETED)\n",
        "def evaluate(engine):\n",
        "    evaluator.run(eval_loader)\n",
        "    print(f'accuracy: {evaluator.state.metrics[\"accuracy\"]:.2f}')"
      ]
    },
    {
      "cell_type": "code",
      "execution_count": 47,
      "metadata": {
        "ExecuteTime": {
          "end_time": "2023-05-16T21:02:23.271890700Z",
          "start_time": "2023-05-16T21:02:23.247245600Z"
        },
        "id": "eRfEEJpXBcOn"
      },
      "outputs": [],
      "source": [
        "RunningAverage(output_transform=lambda x: x).attach(trainer, 'loss')\n",
        "ProgressBar().attach(trainer, ['loss'])"
      ]
    },
    {
      "cell_type": "markdown",
      "metadata": {
        "id": "9vMQ2ocHBcOn"
      },
      "source": [
        "Luckily, we don't need to train for too long. With just one epoch:"
      ]
    },
    {
      "cell_type": "code",
      "execution_count": 48,
      "metadata": {
        "ExecuteTime": {
          "end_time": "2023-05-16T21:08:06.120725300Z",
          "start_time": "2023-05-16T21:02:26.569272800Z"
        },
        "colab": {
          "base_uri": "https://localhost:8080/",
          "height": 309,
          "referenced_widgets": [
            "3284281b71cf4438a9e6f42e33f6b8c7",
            "6a1a873ff2414af7ae7ced1350952bf9",
            "35bcd91ebce24637bcbaf5005af914f2",
            "df7d7984a01c438d9a9c8d1d3e577478",
            "c0456615b82c4873a7a4c418e6a51ca6",
            "76af96ff4a9642aa83a2883a4e314b22",
            "02b6865589e24c1f8258990c85d740a9",
            "7eabfe2d3b64412e823b959d3007db01",
            "66c55d80ee774123a8bcf53878941f7e",
            "57b6bf98d74b46fe98fd536f7bac77b1",
            "f43baa9b86894d98ad034e01a5c92a4f",
            "7caa3061387e438999a8682e6af689fd",
            "737ee6e9c36848808ef0b85c1fa8cf24",
            "203f243f98ff4f1097904b9b4869b94d",
            "f9cb86e9da914fc288aa1463e151a56c",
            "e41ac9676da444bf95020ee0e88cebf2",
            "cfd641866d864573a4faa563e072b002",
            "2eb7a9d2fc194899bad56e95cc44e0ab",
            "006bfb1483b04839ba001712b6606441",
            "48cb8683e753424cb0b6d195778b49ce",
            "bce784a20da94f72aa3353c5fc37099f",
            "2e65dd8d7bb747abb87fcc9721772bda",
            "d8bece600f304acab7e70bd92f833d67",
            "153f998ca80b4bada6e518aa2b695fb1",
            "acd32b92207f437ca11a1a6642e93565",
            "8627cb6499a0493abf07f69cd47d04fd",
            "a058639025f8446a91b1b87007267250",
            "6e6d5955e46942ca9d9f7a95566384bc",
            "73dde730588e4fb989c9619a2a5f6bef",
            "99efcbf76a2743ca8cf17d81d4cf5edc",
            "c843bb8f6b7a4a06aa0277297af92ee6",
            "df83b7d8fb4b4079a07f603f315754cd",
            "ad0b307e9cd140b1b7fee477368e58e4",
            "1104d3156c0a48ff9819d412ea5b6878",
            "fbb7769ed9a643cf9de5ba496934de6b",
            "30f314443d1c476e9f36a95918e23e9b",
            "7fd9a64ec5244f46836a5bf78633c1f2",
            "298c081d29654fd2bfdd733e7aba2540",
            "dd2e768cec6f407686464e126fa85255",
            "af3d291dfece4eb3b6644cf148775a86",
            "082b365654d34d1aab310b23f20ae37e",
            "bf1f0e3517fe4beba39a7e6bb5ffa909",
            "8452cfce1f6b4e3a90422898d4e00c6b",
            "06e744b131c64d57a9f818ce425301cb",
            "ac613356674840f9894602ba48230a9e",
            "0cb845542039491ab896cf9eaf5529cb",
            "8e1ee5848007407480ec199a7f1bc067",
            "59a74cecbc144db5968701b7ba830876",
            "b7a82b7f34a84d89b52f6335fb4b2d5e",
            "ab32d04af11f478f824d1d6ac9678a37",
            "1510f087049c4f9295c1415c10523f77",
            "a5115eed943a438687e91c25d6cd1f28",
            "9748932b43b04556ae9305bdcc5cf39b",
            "d64161b9192e4682810f1cb5579f16fb",
            "56dbdc5d34ee44b1a5c05350ae9d018d"
          ]
        },
        "id": "etcvK65bBcOn",
        "outputId": "422b0205-3431-486a-d871-d11c74ffaefd"
      },
      "outputs": [
        {
          "data": {
            "application/vnd.jupyter.widget-view+json": {
              "model_id": "3284281b71cf4438a9e6f42e33f6b8c7",
              "version_major": 2,
              "version_minor": 0
            },
            "text/plain": [
              "[1/375]   0%|           [00:00<?]"
            ]
          },
          "metadata": {},
          "output_type": "display_data"
        },
        {
          "name": "stdout",
          "output_type": "stream",
          "text": [
            "accuracy: 0.46\n"
          ]
        },
        {
          "data": {
            "application/vnd.jupyter.widget-view+json": {
              "model_id": "7caa3061387e438999a8682e6af689fd",
              "version_major": 2,
              "version_minor": 0
            },
            "text/plain": [
              "[1/375]   0%|           [00:00<?]"
            ]
          },
          "metadata": {},
          "output_type": "display_data"
        },
        {
          "name": "stdout",
          "output_type": "stream",
          "text": [
            "accuracy: 0.59\n"
          ]
        },
        {
          "data": {
            "application/vnd.jupyter.widget-view+json": {
              "model_id": "d8bece600f304acab7e70bd92f833d67",
              "version_major": 2,
              "version_minor": 0
            },
            "text/plain": [
              "[1/375]   0%|           [00:00<?]"
            ]
          },
          "metadata": {},
          "output_type": "display_data"
        },
        {
          "name": "stdout",
          "output_type": "stream",
          "text": [
            "accuracy: 0.66\n"
          ]
        },
        {
          "data": {
            "application/vnd.jupyter.widget-view+json": {
              "model_id": "1104d3156c0a48ff9819d412ea5b6878",
              "version_major": 2,
              "version_minor": 0
            },
            "text/plain": [
              "[1/375]   0%|           [00:00<?]"
            ]
          },
          "metadata": {},
          "output_type": "display_data"
        },
        {
          "name": "stdout",
          "output_type": "stream",
          "text": [
            "accuracy: 0.67\n"
          ]
        },
        {
          "data": {
            "application/vnd.jupyter.widget-view+json": {
              "model_id": "ac613356674840f9894602ba48230a9e",
              "version_major": 2,
              "version_minor": 0
            },
            "text/plain": [
              "[1/375]   0%|           [00:00<?]"
            ]
          },
          "metadata": {},
          "output_type": "display_data"
        },
        {
          "name": "stdout",
          "output_type": "stream",
          "text": [
            "accuracy: 0.75\n"
          ]
        },
        {
          "data": {
            "text/plain": [
              "State:\n",
              "\titeration: 1875\n",
              "\tepoch: 5\n",
              "\tepoch_length: 375\n",
              "\tmax_epochs: 5\n",
              "\toutput: 0.9602268934249878\n",
              "\tbatch: <class 'list'>\n",
              "\tmetrics: <class 'dict'>\n",
              "\tdataloader: <class 'torch.utils.data.dataloader.DataLoader'>\n",
              "\tseed: <class 'NoneType'>\n",
              "\ttimes: <class 'dict'>"
            ]
          },
          "execution_count": 48,
          "metadata": {},
          "output_type": "execute_result"
        }
      ],
      "source": [
        "trainer.run(train_loader, max_epochs=5)"
      ]
    },
    {
      "cell_type": "markdown",
      "metadata": {
        "id": "LNp5yMfFBhd1"
      },
      "source": [
        "## Self-Attention\n",
        "\n",
        "We can now inspect the attention values in the model to verify exactly what the model is looking at when making a prediction. This is extensively studied in Section 4.5 in the [original paper](https://arxiv.org/pdf/2010.11929.pdf), but for this assignment, we are going to focus on a simpler version of this study.\n",
        "\n",
        "As you know, we concatenate a learned `cls` token to the extracted image patches, and take out its corresponding token from the encoder network to then predict the category of the image. With this design, the self-attention weights in each layer of the model can tell us which patches were the most crucial ones in making that prediction.\n",
        "\n",
        "Let's pick a random image and inspect the attention weights."
      ]
    },
    {
      "cell_type": "code",
      "execution_count": 49,
      "metadata": {
        "ExecuteTime": {
          "end_time": "2023-05-16T21:08:16.466574800Z",
          "start_time": "2023-05-16T21:08:16.455053100Z"
        },
        "id": "SOJWzZtkZ2Sn"
      },
      "outputs": [],
      "source": [
        "filepath = 'Linnaeus 5 128X128/test/bird/40_128.jpg'"
      ]
    },
    {
      "cell_type": "code",
      "execution_count": 50,
      "metadata": {
        "ExecuteTime": {
          "end_time": "2023-05-16T21:08:20.344996700Z",
          "start_time": "2023-05-16T21:08:16.796472100Z"
        },
        "colab": {
          "base_uri": "https://localhost:8080/",
          "height": 145
        },
        "id": "EJRFsReuZ2Sn",
        "outputId": "eafcfd8b-cdac-4bdf-eee3-98f97ea845c8"
      },
      "outputs": [
        {
          "data": {
            "image/png": "[encoded data removed]",
            "text/plain": [
              "<PIL.JpegImagePlugin.JpegImageFile image mode=RGB size=128x128 at 0x7F76D4564580>"
            ]
          },
          "metadata": {},
          "output_type": "display_data"
        }
      ],
      "source": [
        "im = Image.open(filepath)\n",
        "im.show()"
      ]
    },
    {
      "cell_type": "code",
      "execution_count": 51,
      "metadata": {
        "ExecuteTime": {
          "end_time": "2023-05-16T21:08:22.040043400Z",
          "start_time": "2023-05-16T21:08:22.011805600Z"
        },
        "id": "qKi6cC-GZ2Sn"
      },
      "outputs": [],
      "source": [
        "sample = transform(im)\n",
        "batch = sample.unsqueeze(0)\n",
        "batch = batch.to(device)"
      ]
    },
    {
      "cell_type": "code",
      "execution_count": 52,
      "metadata": {
        "ExecuteTime": {
          "end_time": "2023-05-16T21:08:22.657622Z",
          "start_time": "2023-05-16T21:08:22.615369400Z"
        },
        "id": "VAyfQWeMZ2Sn"
      },
      "outputs": [],
      "source": [
        "logits, weights = network(batch, need_weights=True)"
      ]
    },
    {
      "cell_type": "markdown",
      "metadata": {
        "id": "4OmMNxmjZ2Sn"
      },
      "source": [
        "We can quickly check that the model has made the right prediction:"
      ]
    },
    {
      "cell_type": "code",
      "execution_count": 53,
      "metadata": {
        "ExecuteTime": {
          "end_time": "2023-05-16T21:08:24.045057600Z",
          "start_time": "2023-05-16T21:08:24.030992600Z"
        },
        "colab": {
          "base_uri": "https://localhost:8080/"
        },
        "id": "gHhjPTU3Z2So",
        "outputId": "5429ddc6-80d9-40ce-cbdc-ad9485c38f4f"
      },
      "outputs": [
        {
          "name": "stdout",
          "output_type": "stream",
          "text": [
            "tensor(2, device='cuda:0')\n"
          ]
        }
      ],
      "source": [
        "# Pass the logits through sigmoid and get the index of the largest score.\n",
        "sigmoid_output = torch.sigmoid(logits)\n",
        "max_index = torch.argmax(sigmoid_output)\n",
        "print(max_index)"
      ]
    },
    {
      "cell_type": "markdown",
      "metadata": {
        "id": "pXVVXcReZ2So"
      },
      "source": [
        "To see what this index represents, we have to check the dataset:"
      ]
    },
    {
      "cell_type": "code",
      "execution_count": 54,
      "metadata": {
        "ExecuteTime": {
          "end_time": "2023-05-16T21:08:26.863150500Z",
          "start_time": "2023-05-16T21:08:26.845738400Z"
        },
        "colab": {
          "base_uri": "https://localhost:8080/"
        },
        "id": "O5UI0XsEZ2So",
        "outputId": "5b2c5281-b5ad-4cec-cd5b-9d1f3b7a10b4"
      },
      "outputs": [
        {
          "data": {
            "text/plain": [
              "{'berry': 0, 'bird': 1, 'dog': 2, 'flower': 3, 'other': 4}"
            ]
          },
          "execution_count": 54,
          "metadata": {},
          "output_type": "execute_result"
        }
      ],
      "source": [
        "train_set.class_to_idx"
      ]
    },
    {
      "cell_type": "markdown",
      "metadata": {
        "id": "vSUwR-IOZ2So"
      },
      "source": [
        "That seems to be correct. We should now the weights. The model's output, `weights`, is a list containing 12 tensors that are all shaped as `(1, 17, 17)`. As previously discussed, we'll solely focus on the final output. Let's extract that:"
      ]
    },
    {
      "cell_type": "code",
      "execution_count": 55,
      "metadata": {
        "ExecuteTime": {
          "end_time": "2023-05-16T21:08:29.335165300Z",
          "start_time": "2023-05-16T21:08:29.315020Z"
        },
        "id": "M-EFRz-VZ2Sp"
      },
      "outputs": [],
      "source": [
        "w = weights[-1]"
      ]
    },
    {
      "cell_type": "markdown",
      "metadata": {
        "id": "0Gtp_mNyZ2Sp"
      },
      "source": [
        "and take a look at the weights associated with the `cls` token, which is:"
      ]
    },
    {
      "cell_type": "code",
      "execution_count": 56,
      "metadata": {
        "ExecuteTime": {
          "end_time": "2023-05-16T21:08:31.370290400Z",
          "start_time": "2023-05-16T21:08:31.356619100Z"
        },
        "id": "SL69Bd6XZ2Sp"
      },
      "outputs": [],
      "source": [
        "# Extract the last 16 elements from the first column\n",
        "last_16_elements = w[0, 1:, 0][-16:]\n",
        "\n",
        "# Reshape the elements as a 4x4 tensor\n",
        "reshaped_tensor = last_16_elements.view(4, 4)\n",
        "\n",
        "w = reshaped_tensor.cpu().detach().numpy()  # Extract the last 16 elements from the first column and reshape it as 4x4."
      ]
    },
    {
      "cell_type": "markdown",
      "metadata": {
        "id": "xExhuK5VZ2Sp"
      },
      "source": [
        "and finally, we can overlay the two. To do so, they need to be of the same size. Scipy can help with that:"
      ]
    },
    {
      "cell_type": "code",
      "execution_count": 57,
      "metadata": {
        "ExecuteTime": {
          "end_time": "2023-05-16T21:08:32.449941100Z",
          "start_time": "2023-05-16T21:08:32.435911400Z"
        },
        "id": "bV7sJ_qjZ2Sp"
      },
      "outputs": [],
      "source": [
        "w = zoom(w, zoom=32, mode='nearest')"
      ]
    },
    {
      "cell_type": "markdown",
      "metadata": {
        "id": "b6XRYki8Z2Sp"
      },
      "source": [
        "Finally:"
      ]
    },
    {
      "cell_type": "code",
      "execution_count": 58,
      "metadata": {
        "ExecuteTime": {
          "end_time": "2023-05-16T21:09:00.397751900Z",
          "start_time": "2023-05-16T21:09:00.132158700Z"
        },
        "colab": {
          "base_uri": "https://localhost:8080/",
          "height": 452
        },
        "id": "OaKjjJ7xZ2Sq",
        "outputId": "103e63ef-a9b5-4eb7-9101-5ba887aea864"
      },
      "outputs": [
        {
          "data": {
            "text/plain": [
              "<matplotlib.colorbar.Colorbar at 0x7f76d45826e0>"
            ]
          },
          "execution_count": 58,
          "metadata": {},
          "output_type": "execute_result"
        },
        {
          "data": {
            "image/png": "[encoded data removed]",
            "text/plain": [
              "<Figure size 640x480 with 2 Axes>"
            ]
          },
          "metadata": {},
          "output_type": "display_data"
        }
      ],
      "source": [
        "plt.imshow(im)\n",
        "plt.imshow(w, cmap='viridis', alpha=0.5)\n",
        "plt.colorbar()"
      ]
    },
    {
      "cell_type": "markdown",
      "metadata": {
        "id": "6-exfdAbaVHe"
      },
      "source": [
        "The model is clearly focusing on the bird. Can you imagine how we can use this property to create weakly supervised solutions?"
      ]
    }
  ],
  "metadata": {
    "accelerator": "GPU",
    "colab": {
      "gpuType": "T4",
      "provenance": []
    },
    "gpuClass": "standard",
    "kernelspec": {
      "display_name": "Python 3 (ipykernel)",
      "language": "python",
      "name": "python3"
    },
    "language_info": {
      "codemirror_mode": {
        "name": "ipython",
        "version": 3
      },
      "file_extension": ".py",
      "mimetype": "text/x-python",
      "name": "python",
      "nbconvert_exporter": "python",
      "pygments_lexer": "ipython3",
      "version": "3.10.11"
    },
    "widgets": {
      "application/vnd.jupyter.widget-state+json": {
        "006bfb1483b04839ba001712b6606441": {
          "model_module": "@jupyter-widgets/base",
          "model_module_version": "1.2.0",
          "model_name": "LayoutModel",
          "state": {
            "_model_module": "@jupyter-widgets/base",
            "_model_module_version": "1.2.0",
            "_model_name": "LayoutModel",
            "_view_count": null,
            "_view_module": "@jupyter-widgets/base",
            "_view_module_version": "1.2.0",
            "_view_name": "LayoutView",
            "align_content": null,
            "align_items": null,
            "align_self": null,
            "border": null,
            "bottom": null,
            "display": null,
            "flex": null,
            "flex_flow": null,
            "grid_area": null,
            "grid_auto_columns": null,
            "grid_auto_flow": null,
            "grid_auto_rows": null,
            "grid_column": null,
            "grid_gap": null,
            "grid_row": null,
            "grid_template_areas": null,
            "grid_template_columns": null,
            "grid_template_rows": null,
            "height": null,
            "justify_content": null,
            "justify_items": null,
            "left": null,
            "margin": null,
            "max_height": null,
            "max_width": null,
            "min_height": null,
            "min_width": null,
            "object_fit": null,
            "object_position": null,
            "order": null,
            "overflow": null,
            "overflow_x": null,
            "overflow_y": null,
            "padding": null,
            "right": null,
            "top": null,
            "visibility": null,
            "width": null
          }
        },
        "02b6865589e24c1f8258990c85d740a9": {
          "model_module": "@jupyter-widgets/controls",
          "model_module_version": "1.5.0",
          "model_name": "DescriptionStyleModel",
          "state": {
            "_model_module": "@jupyter-widgets/controls",
            "_model_module_version": "1.5.0",
            "_model_name": "DescriptionStyleModel",
            "_view_count": null,
            "_view_module": "@jupyter-widgets/base",
            "_view_module_version": "1.2.0",
            "_view_name": "StyleView",
            "description_width": ""
          }
        },
        "06e744b131c64d57a9f818ce425301cb": {
          "model_module": "@jupyter-widgets/controls",
          "model_module_version": "1.5.0",
          "model_name": "DescriptionStyleModel",
          "state": {
            "_model_module": "@jupyter-widgets/controls",
            "_model_module_version": "1.5.0",
            "_model_name": "DescriptionStyleModel",
            "_view_count": null,
            "_view_module": "@jupyter-widgets/base",
            "_view_module_version": "1.2.0",
            "_view_name": "StyleView",
            "description_width": ""
          }
        },
        "082b365654d34d1aab310b23f20ae37e": {
          "model_module": "@jupyter-widgets/base",
          "model_module_version": "1.2.0",
          "model_name": "LayoutModel",
          "state": {
            "_model_module": "@jupyter-widgets/base",
            "_model_module_version": "1.2.0",
            "_model_name": "LayoutModel",
            "_view_count": null,
            "_view_module": "@jupyter-widgets/base",
            "_view_module_version": "1.2.0",
            "_view_name": "LayoutView",
            "align_content": null,
            "align_items": null,
            "align_self": null,
            "border": null,
            "bottom": null,
            "display": null,
            "flex": null,
            "flex_flow": null,
            "grid_area": null,
            "grid_auto_columns": null,
            "grid_auto_flow": null,
            "grid_auto_rows": null,
            "grid_column": null,
            "grid_gap": null,
            "grid_row": null,
            "grid_template_areas": null,
            "grid_template_columns": null,
            "grid_template_rows": null,
            "height": null,
            "justify_content": null,
            "justify_items": null,
            "left": null,
            "margin": null,
            "max_height": null,
            "max_width": null,
            "min_height": null,
            "min_width": null,
            "object_fit": null,
            "object_position": null,
            "order": null,
            "overflow": null,
            "overflow_x": null,
            "overflow_y": null,
            "padding": null,
            "right": null,
            "top": null,
            "visibility": null,
            "width": null
          }
        },
        "0cb845542039491ab896cf9eaf5529cb": {
          "model_module": "@jupyter-widgets/controls",
          "model_module_version": "1.5.0",
          "model_name": "HTMLModel",
          "state": {
            "_dom_classes": [],
            "_model_module": "@jupyter-widgets/controls",
            "_model_module_version": "1.5.0",
            "_model_name": "HTMLModel",
            "_view_count": null,
            "_view_module": "@jupyter-widgets/controls",
            "_view_module_version": "1.5.0",
            "_view_name": "HTMLView",
            "description": "",
            "description_tooltip": null,
            "layout": "IPY_MODEL_ab32d04af11f478f824d1d6ac9678a37",
            "placeholder": "​",
            "style": "IPY_MODEL_1510f087049c4f9295c1415c10523f77",
            "value": "Epoch [5/5]: [374/375] 100%"
          }
        },
        "1104d3156c0a48ff9819d412ea5b6878": {
          "model_module": "@jupyter-widgets/controls",
          "model_module_version": "1.5.0",
          "model_name": "HBoxModel",
          "state": {
            "_dom_classes": [],
            "_model_module": "@jupyter-widgets/controls",
            "_model_module_version": "1.5.0",
            "_model_name": "HBoxModel",
            "_view_count": null,
            "_view_module": "@jupyter-widgets/controls",
            "_view_module_version": "1.5.0",
            "_view_name": "HBoxView",
            "box_style": "",
            "children": [
              "IPY_MODEL_fbb7769ed9a643cf9de5ba496934de6b",
              "IPY_MODEL_30f314443d1c476e9f36a95918e23e9b",
              "IPY_MODEL_7fd9a64ec5244f46836a5bf78633c1f2"
            ],
            "layout": "IPY_MODEL_298c081d29654fd2bfdd733e7aba2540"
          }
        },
        "1510f087049c4f9295c1415c10523f77": {
          "model_module": "@jupyter-widgets/controls",
          "model_module_version": "1.5.0",
          "model_name": "DescriptionStyleModel",
          "state": {
            "_model_module": "@jupyter-widgets/controls",
            "_model_module_version": "1.5.0",
            "_model_name": "DescriptionStyleModel",
            "_view_count": null,
            "_view_module": "@jupyter-widgets/base",
            "_view_module_version": "1.2.0",
            "_view_name": "StyleView",
            "description_width": ""
          }
        },
        "153f998ca80b4bada6e518aa2b695fb1": {
          "model_module": "@jupyter-widgets/controls",
          "model_module_version": "1.5.0",
          "model_name": "HTMLModel",
          "state": {
            "_dom_classes": [],
            "_model_module": "@jupyter-widgets/controls",
            "_model_module_version": "1.5.0",
            "_model_name": "HTMLModel",
            "_view_count": null,
            "_view_module": "@jupyter-widgets/controls",
            "_view_module_version": "1.5.0",
            "_view_name": "HTMLView",
            "description": "",
            "description_tooltip": null,
            "layout": "IPY_MODEL_6e6d5955e46942ca9d9f7a95566384bc",
            "placeholder": "​",
            "style": "IPY_MODEL_73dde730588e4fb989c9619a2a5f6bef",
            "value": "Epoch [3/5]: [375/375] 100%"
          }
        },
        "203f243f98ff4f1097904b9b4869b94d": {
          "model_module": "@jupyter-widgets/controls",
          "model_module_version": "1.5.0",
          "model_name": "FloatProgressModel",
          "state": {
            "_dom_classes": [],
            "_model_module": "@jupyter-widgets/controls",
            "_model_module_version": "1.5.0",
            "_model_name": "FloatProgressModel",
            "_view_count": null,
            "_view_module": "@jupyter-widgets/controls",
            "_view_module_version": "1.5.0",
            "_view_name": "ProgressView",
            "bar_style": "",
            "description": "",
            "description_tooltip": null,
            "layout": "IPY_MODEL_006bfb1483b04839ba001712b6606441",
            "max": 375,
            "min": 0,
            "orientation": "horizontal",
            "style": "IPY_MODEL_48cb8683e753424cb0b6d195778b49ce",
            "value": 375
          }
        },
        "298c081d29654fd2bfdd733e7aba2540": {
          "model_module": "@jupyter-widgets/base",
          "model_module_version": "1.2.0",
          "model_name": "LayoutModel",
          "state": {
            "_model_module": "@jupyter-widgets/base",
            "_model_module_version": "1.2.0",
            "_model_name": "LayoutModel",
            "_view_count": null,
            "_view_module": "@jupyter-widgets/base",
            "_view_module_version": "1.2.0",
            "_view_name": "LayoutView",
            "align_content": null,
            "align_items": null,
            "align_self": null,
            "border": null,
            "bottom": null,
            "display": null,
            "flex": null,
            "flex_flow": null,
            "grid_area": null,
            "grid_auto_columns": null,
            "grid_auto_flow": null,
            "grid_auto_rows": null,
            "grid_column": null,
            "grid_gap": null,
            "grid_row": null,
            "grid_template_areas": null,
            "grid_template_columns": null,
            "grid_template_rows": null,
            "height": null,
            "justify_content": null,
            "justify_items": null,
            "left": null,
            "margin": null,
            "max_height": null,
            "max_width": null,
            "min_height": null,
            "min_width": null,
            "object_fit": null,
            "object_position": null,
            "order": null,
            "overflow": null,
            "overflow_x": null,
            "overflow_y": null,
            "padding": null,
            "right": null,
            "top": null,
            "visibility": "hidden",
            "width": null
          }
        },
        "2e65dd8d7bb747abb87fcc9721772bda": {
          "model_module": "@jupyter-widgets/controls",
          "model_module_version": "1.5.0",
          "model_name": "DescriptionStyleModel",
          "state": {
            "_model_module": "@jupyter-widgets/controls",
            "_model_module_version": "1.5.0",
            "_model_name": "DescriptionStyleModel",
            "_view_count": null,
            "_view_module": "@jupyter-widgets/base",
            "_view_module_version": "1.2.0",
            "_view_name": "StyleView",
            "description_width": ""
          }
        },
        "2eb7a9d2fc194899bad56e95cc44e0ab": {
          "model_module": "@jupyter-widgets/controls",
          "model_module_version": "1.5.0",
          "model_name": "DescriptionStyleModel",
          "state": {
            "_model_module": "@jupyter-widgets/controls",
            "_model_module_version": "1.5.0",
            "_model_name": "DescriptionStyleModel",
            "_view_count": null,
            "_view_module": "@jupyter-widgets/base",
            "_view_module_version": "1.2.0",
            "_view_name": "StyleView",
            "description_width": ""
          }
        },
        "30f314443d1c476e9f36a95918e23e9b": {
          "model_module": "@jupyter-widgets/controls",
          "model_module_version": "1.5.0",
          "model_name": "FloatProgressModel",
          "state": {
            "_dom_classes": [],
            "_model_module": "@jupyter-widgets/controls",
            "_model_module_version": "1.5.0",
            "_model_name": "FloatProgressModel",
            "_view_count": null,
            "_view_module": "@jupyter-widgets/controls",
            "_view_module_version": "1.5.0",
            "_view_name": "ProgressView",
            "bar_style": "",
            "description": "",
            "description_tooltip": null,
            "layout": "IPY_MODEL_082b365654d34d1aab310b23f20ae37e",
            "max": 375,
            "min": 0,
            "orientation": "horizontal",
            "style": "IPY_MODEL_bf1f0e3517fe4beba39a7e6bb5ffa909",
            "value": 375
          }
        },
        "3284281b71cf4438a9e6f42e33f6b8c7": {
          "model_module": "@jupyter-widgets/controls",
          "model_module_version": "1.5.0",
          "model_name": "HBoxModel",
          "state": {
            "_dom_classes": [],
            "_model_module": "@jupyter-widgets/controls",
            "_model_module_version": "1.5.0",
            "_model_name": "HBoxModel",
            "_view_count": null,
            "_view_module": "@jupyter-widgets/controls",
            "_view_module_version": "1.5.0",
            "_view_name": "HBoxView",
            "box_style": "",
            "children": [
              "IPY_MODEL_6a1a873ff2414af7ae7ced1350952bf9",
              "IPY_MODEL_35bcd91ebce24637bcbaf5005af914f2",
              "IPY_MODEL_df7d7984a01c438d9a9c8d1d3e577478"
            ],
            "layout": "IPY_MODEL_c0456615b82c4873a7a4c418e6a51ca6"
          }
        },
        "35bcd91ebce24637bcbaf5005af914f2": {
          "model_module": "@jupyter-widgets/controls",
          "model_module_version": "1.5.0",
          "model_name": "FloatProgressModel",
          "state": {
            "_dom_classes": [],
            "_model_module": "@jupyter-widgets/controls",
            "_model_module_version": "1.5.0",
            "_model_name": "FloatProgressModel",
            "_view_count": null,
            "_view_module": "@jupyter-widgets/controls",
            "_view_module_version": "1.5.0",
            "_view_name": "ProgressView",
            "bar_style": "",
            "description": "",
            "description_tooltip": null,
            "layout": "IPY_MODEL_7eabfe2d3b64412e823b959d3007db01",
            "max": 375,
            "min": 0,
            "orientation": "horizontal",
            "style": "IPY_MODEL_66c55d80ee774123a8bcf53878941f7e",
            "value": 375
          }
        },
        "48cb8683e753424cb0b6d195778b49ce": {
          "model_module": "@jupyter-widgets/controls",
          "model_module_version": "1.5.0",
          "model_name": "ProgressStyleModel",
          "state": {
            "_model_module": "@jupyter-widgets/controls",
            "_model_module_version": "1.5.0",
            "_model_name": "ProgressStyleModel",
            "_view_count": null,
            "_view_module": "@jupyter-widgets/base",
            "_view_module_version": "1.2.0",
            "_view_name": "StyleView",
            "bar_color": null,
            "description_width": ""
          }
        },
        "56dbdc5d34ee44b1a5c05350ae9d018d": {
          "model_module": "@jupyter-widgets/controls",
          "model_module_version": "1.5.0",
          "model_name": "DescriptionStyleModel",
          "state": {
            "_model_module": "@jupyter-widgets/controls",
            "_model_module_version": "1.5.0",
            "_model_name": "DescriptionStyleModel",
            "_view_count": null,
            "_view_module": "@jupyter-widgets/base",
            "_view_module_version": "1.2.0",
            "_view_name": "StyleView",
            "description_width": ""
          }
        },
        "57b6bf98d74b46fe98fd536f7bac77b1": {
          "model_module": "@jupyter-widgets/base",
          "model_module_version": "1.2.0",
          "model_name": "LayoutModel",
          "state": {
            "_model_module": "@jupyter-widgets/base",
            "_model_module_version": "1.2.0",
            "_model_name": "LayoutModel",
            "_view_count": null,
            "_view_module": "@jupyter-widgets/base",
            "_view_module_version": "1.2.0",
            "_view_name": "LayoutView",
            "align_content": null,
            "align_items": null,
            "align_self": null,
            "border": null,
            "bottom": null,
            "display": null,
            "flex": null,
            "flex_flow": null,
            "grid_area": null,
            "grid_auto_columns": null,
            "grid_auto_flow": null,
            "grid_auto_rows": null,
            "grid_column": null,
            "grid_gap": null,
            "grid_row": null,
            "grid_template_areas": null,
            "grid_template_columns": null,
            "grid_template_rows": null,
            "height": null,
            "justify_content": null,
            "justify_items": null,
            "left": null,
            "margin": null,
            "max_height": null,
            "max_width": null,
            "min_height": null,
            "min_width": null,
            "object_fit": null,
            "object_position": null,
            "order": null,
            "overflow": null,
            "overflow_x": null,
            "overflow_y": null,
            "padding": null,
            "right": null,
            "top": null,
            "visibility": null,
            "width": null
          }
        },
        "59a74cecbc144db5968701b7ba830876": {
          "model_module": "@jupyter-widgets/controls",
          "model_module_version": "1.5.0",
          "model_name": "HTMLModel",
          "state": {
            "_dom_classes": [],
            "_model_module": "@jupyter-widgets/controls",
            "_model_module_version": "1.5.0",
            "_model_name": "HTMLModel",
            "_view_count": null,
            "_view_module": "@jupyter-widgets/controls",
            "_view_module_version": "1.5.0",
            "_view_name": "HTMLView",
            "description": "",
            "description_tooltip": null,
            "layout": "IPY_MODEL_d64161b9192e4682810f1cb5579f16fb",
            "placeholder": "​",
            "style": "IPY_MODEL_56dbdc5d34ee44b1a5c05350ae9d018d",
            "value": ", loss=0.837 [00:25&lt;00:00]"
          }
        },
        "66c55d80ee774123a8bcf53878941f7e": {
          "model_module": "@jupyter-widgets/controls",
          "model_module_version": "1.5.0",
          "model_name": "ProgressStyleModel",
          "state": {
            "_model_module": "@jupyter-widgets/controls",
            "_model_module_version": "1.5.0",
            "_model_name": "ProgressStyleModel",
            "_view_count": null,
            "_view_module": "@jupyter-widgets/base",
            "_view_module_version": "1.2.0",
            "_view_name": "StyleView",
            "bar_color": null,
            "description_width": ""
          }
        },
        "6a1a873ff2414af7ae7ced1350952bf9": {
          "model_module": "@jupyter-widgets/controls",
          "model_module_version": "1.5.0",
          "model_name": "HTMLModel",
          "state": {
            "_dom_classes": [],
            "_model_module": "@jupyter-widgets/controls",
            "_model_module_version": "1.5.0",
            "_model_name": "HTMLModel",
            "_view_count": null,
            "_view_module": "@jupyter-widgets/controls",
            "_view_module_version": "1.5.0",
            "_view_name": "HTMLView",
            "description": "",
            "description_tooltip": null,
            "layout": "IPY_MODEL_76af96ff4a9642aa83a2883a4e314b22",
            "placeholder": "​",
            "style": "IPY_MODEL_02b6865589e24c1f8258990c85d740a9",
            "value": "Epoch [1/5]: [374/375] 100%"
          }
        },
        "6e6d5955e46942ca9d9f7a95566384bc": {
          "model_module": "@jupyter-widgets/base",
          "model_module_version": "1.2.0",
          "model_name": "LayoutModel",
          "state": {
            "_model_module": "@jupyter-widgets/base",
            "_model_module_version": "1.2.0",
            "_model_name": "LayoutModel",
            "_view_count": null,
            "_view_module": "@jupyter-widgets/base",
            "_view_module_version": "1.2.0",
            "_view_name": "LayoutView",
            "align_content": null,
            "align_items": null,
            "align_self": null,
            "border": null,
            "bottom": null,
            "display": null,
            "flex": null,
            "flex_flow": null,
            "grid_area": null,
            "grid_auto_columns": null,
            "grid_auto_flow": null,
            "grid_auto_rows": null,
            "grid_column": null,
            "grid_gap": null,
            "grid_row": null,
            "grid_template_areas": null,
            "grid_template_columns": null,
            "grid_template_rows": null,
            "height": null,
            "justify_content": null,
            "justify_items": null,
            "left": null,
            "margin": null,
            "max_height": null,
            "max_width": null,
            "min_height": null,
            "min_width": null,
            "object_fit": null,
            "object_position": null,
            "order": null,
            "overflow": null,
            "overflow_x": null,
            "overflow_y": null,
            "padding": null,
            "right": null,
            "top": null,
            "visibility": null,
            "width": null
          }
        },
        "737ee6e9c36848808ef0b85c1fa8cf24": {
          "model_module": "@jupyter-widgets/controls",
          "model_module_version": "1.5.0",
          "model_name": "HTMLModel",
          "state": {
            "_dom_classes": [],
            "_model_module": "@jupyter-widgets/controls",
            "_model_module_version": "1.5.0",
            "_model_name": "HTMLModel",
            "_view_count": null,
            "_view_module": "@jupyter-widgets/controls",
            "_view_module_version": "1.5.0",
            "_view_name": "HTMLView",
            "description": "",
            "description_tooltip": null,
            "layout": "IPY_MODEL_cfd641866d864573a4faa563e072b002",
            "placeholder": "​",
            "style": "IPY_MODEL_2eb7a9d2fc194899bad56e95cc44e0ab",
            "value": "Epoch [2/5]: [375/375] 100%"
          }
        },
        "73dde730588e4fb989c9619a2a5f6bef": {
          "model_module": "@jupyter-widgets/controls",
          "model_module_version": "1.5.0",
          "model_name": "DescriptionStyleModel",
          "state": {
            "_model_module": "@jupyter-widgets/controls",
            "_model_module_version": "1.5.0",
            "_model_name": "DescriptionStyleModel",
            "_view_count": null,
            "_view_module": "@jupyter-widgets/base",
            "_view_module_version": "1.2.0",
            "_view_name": "StyleView",
            "description_width": ""
          }
        },
        "76af96ff4a9642aa83a2883a4e314b22": {
          "model_module": "@jupyter-widgets/base",
          "model_module_version": "1.2.0",
          "model_name": "LayoutModel",
          "state": {
            "_model_module": "@jupyter-widgets/base",
            "_model_module_version": "1.2.0",
            "_model_name": "LayoutModel",
            "_view_count": null,
            "_view_module": "@jupyter-widgets/base",
            "_view_module_version": "1.2.0",
            "_view_name": "LayoutView",
            "align_content": null,
            "align_items": null,
            "align_self": null,
            "border": null,
            "bottom": null,
            "display": null,
            "flex": null,
            "flex_flow": null,
            "grid_area": null,
            "grid_auto_columns": null,
            "grid_auto_flow": null,
            "grid_auto_rows": null,
            "grid_column": null,
            "grid_gap": null,
            "grid_row": null,
            "grid_template_areas": null,
            "grid_template_columns": null,
            "grid_template_rows": null,
            "height": null,
            "justify_content": null,
            "justify_items": null,
            "left": null,
            "margin": null,
            "max_height": null,
            "max_width": null,
            "min_height": null,
            "min_width": null,
            "object_fit": null,
            "object_position": null,
            "order": null,
            "overflow": null,
            "overflow_x": null,
            "overflow_y": null,
            "padding": null,
            "right": null,
            "top": null,
            "visibility": null,
            "width": null
          }
        },
        "7caa3061387e438999a8682e6af689fd": {
          "model_module": "@jupyter-widgets/controls",
          "model_module_version": "1.5.0",
          "model_name": "HBoxModel",
          "state": {
            "_dom_classes": [],
            "_model_module": "@jupyter-widgets/controls",
            "_model_module_version": "1.5.0",
            "_model_name": "HBoxModel",
            "_view_count": null,
            "_view_module": "@jupyter-widgets/controls",
            "_view_module_version": "1.5.0",
            "_view_name": "HBoxView",
            "box_style": "",
            "children": [
              "IPY_MODEL_737ee6e9c36848808ef0b85c1fa8cf24",
              "IPY_MODEL_203f243f98ff4f1097904b9b4869b94d",
              "IPY_MODEL_f9cb86e9da914fc288aa1463e151a56c"
            ],
            "layout": "IPY_MODEL_e41ac9676da444bf95020ee0e88cebf2"
          }
        },
        "7eabfe2d3b64412e823b959d3007db01": {
          "model_module": "@jupyter-widgets/base",
          "model_module_version": "1.2.0",
          "model_name": "LayoutModel",
          "state": {
            "_model_module": "@jupyter-widgets/base",
            "_model_module_version": "1.2.0",
            "_model_name": "LayoutModel",
            "_view_count": null,
            "_view_module": "@jupyter-widgets/base",
            "_view_module_version": "1.2.0",
            "_view_name": "LayoutView",
            "align_content": null,
            "align_items": null,
            "align_self": null,
            "border": null,
            "bottom": null,
            "display": null,
            "flex": null,
            "flex_flow": null,
            "grid_area": null,
            "grid_auto_columns": null,
            "grid_auto_flow": null,
            "grid_auto_rows": null,
            "grid_column": null,
            "grid_gap": null,
            "grid_row": null,
            "grid_template_areas": null,
            "grid_template_columns": null,
            "grid_template_rows": null,
            "height": null,
            "justify_content": null,
            "justify_items": null,
            "left": null,
            "margin": null,
            "max_height": null,
            "max_width": null,
            "min_height": null,
            "min_width": null,
            "object_fit": null,
            "object_position": null,
            "order": null,
            "overflow": null,
            "overflow_x": null,
            "overflow_y": null,
            "padding": null,
            "right": null,
            "top": null,
            "visibility": null,
            "width": null
          }
        },
        "7fd9a64ec5244f46836a5bf78633c1f2": {
          "model_module": "@jupyter-widgets/controls",
          "model_module_version": "1.5.0",
          "model_name": "HTMLModel",
          "state": {
            "_dom_classes": [],
            "_model_module": "@jupyter-widgets/controls",
            "_model_module_version": "1.5.0",
            "_model_name": "HTMLModel",
            "_view_count": null,
            "_view_module": "@jupyter-widgets/controls",
            "_view_module_version": "1.5.0",
            "_view_name": "HTMLView",
            "description": "",
            "description_tooltip": null,
            "layout": "IPY_MODEL_8452cfce1f6b4e3a90422898d4e00c6b",
            "placeholder": "​",
            "style": "IPY_MODEL_06e744b131c64d57a9f818ce425301cb",
            "value": ", loss=0.975 [00:37&lt;00:00]"
          }
        },
        "8452cfce1f6b4e3a90422898d4e00c6b": {
          "model_module": "@jupyter-widgets/base",
          "model_module_version": "1.2.0",
          "model_name": "LayoutModel",
          "state": {
            "_model_module": "@jupyter-widgets/base",
            "_model_module_version": "1.2.0",
            "_model_name": "LayoutModel",
            "_view_count": null,
            "_view_module": "@jupyter-widgets/base",
            "_view_module_version": "1.2.0",
            "_view_name": "LayoutView",
            "align_content": null,
            "align_items": null,
            "align_self": null,
            "border": null,
            "bottom": null,
            "display": null,
            "flex": null,
            "flex_flow": null,
            "grid_area": null,
            "grid_auto_columns": null,
            "grid_auto_flow": null,
            "grid_auto_rows": null,
            "grid_column": null,
            "grid_gap": null,
            "grid_row": null,
            "grid_template_areas": null,
            "grid_template_columns": null,
            "grid_template_rows": null,
            "height": null,
            "justify_content": null,
            "justify_items": null,
            "left": null,
            "margin": null,
            "max_height": null,
            "max_width": null,
            "min_height": null,
            "min_width": null,
            "object_fit": null,
            "object_position": null,
            "order": null,
            "overflow": null,
            "overflow_x": null,
            "overflow_y": null,
            "padding": null,
            "right": null,
            "top": null,
            "visibility": null,
            "width": null
          }
        },
        "8627cb6499a0493abf07f69cd47d04fd": {
          "model_module": "@jupyter-widgets/controls",
          "model_module_version": "1.5.0",
          "model_name": "HTMLModel",
          "state": {
            "_dom_classes": [],
            "_model_module": "@jupyter-widgets/controls",
            "_model_module_version": "1.5.0",
            "_model_name": "HTMLModel",
            "_view_count": null,
            "_view_module": "@jupyter-widgets/controls",
            "_view_module_version": "1.5.0",
            "_view_name": "HTMLView",
            "description": "",
            "description_tooltip": null,
            "layout": "IPY_MODEL_df83b7d8fb4b4079a07f603f315754cd",
            "placeholder": "​",
            "style": "IPY_MODEL_ad0b307e9cd140b1b7fee477368e58e4",
            "value": ", loss=1.06 [00:35&lt;00:00]"
          }
        },
        "8e1ee5848007407480ec199a7f1bc067": {
          "model_module": "@jupyter-widgets/controls",
          "model_module_version": "1.5.0",
          "model_name": "FloatProgressModel",
          "state": {
            "_dom_classes": [],
            "_model_module": "@jupyter-widgets/controls",
            "_model_module_version": "1.5.0",
            "_model_name": "FloatProgressModel",
            "_view_count": null,
            "_view_module": "@jupyter-widgets/controls",
            "_view_module_version": "1.5.0",
            "_view_name": "ProgressView",
            "bar_style": "",
            "description": "",
            "description_tooltip": null,
            "layout": "IPY_MODEL_a5115eed943a438687e91c25d6cd1f28",
            "max": 375,
            "min": 0,
            "orientation": "horizontal",
            "style": "IPY_MODEL_9748932b43b04556ae9305bdcc5cf39b",
            "value": 375
          }
        },
        "9748932b43b04556ae9305bdcc5cf39b": {
          "model_module": "@jupyter-widgets/controls",
          "model_module_version": "1.5.0",
          "model_name": "ProgressStyleModel",
          "state": {
            "_model_module": "@jupyter-widgets/controls",
            "_model_module_version": "1.5.0",
            "_model_name": "ProgressStyleModel",
            "_view_count": null,
            "_view_module": "@jupyter-widgets/base",
            "_view_module_version": "1.2.0",
            "_view_name": "StyleView",
            "bar_color": null,
            "description_width": ""
          }
        },
        "99efcbf76a2743ca8cf17d81d4cf5edc": {
          "model_module": "@jupyter-widgets/base",
          "model_module_version": "1.2.0",
          "model_name": "LayoutModel",
          "state": {
            "_model_module": "@jupyter-widgets/base",
            "_model_module_version": "1.2.0",
            "_model_name": "LayoutModel",
            "_view_count": null,
            "_view_module": "@jupyter-widgets/base",
            "_view_module_version": "1.2.0",
            "_view_name": "LayoutView",
            "align_content": null,
            "align_items": null,
            "align_self": null,
            "border": null,
            "bottom": null,
            "display": null,
            "flex": null,
            "flex_flow": null,
            "grid_area": null,
            "grid_auto_columns": null,
            "grid_auto_flow": null,
            "grid_auto_rows": null,
            "grid_column": null,
            "grid_gap": null,
            "grid_row": null,
            "grid_template_areas": null,
            "grid_template_columns": null,
            "grid_template_rows": null,
            "height": null,
            "justify_content": null,
            "justify_items": null,
            "left": null,
            "margin": null,
            "max_height": null,
            "max_width": null,
            "min_height": null,
            "min_width": null,
            "object_fit": null,
            "object_position": null,
            "order": null,
            "overflow": null,
            "overflow_x": null,
            "overflow_y": null,
            "padding": null,
            "right": null,
            "top": null,
            "visibility": null,
            "width": null
          }
        },
        "a058639025f8446a91b1b87007267250": {
          "model_module": "@jupyter-widgets/base",
          "model_module_version": "1.2.0",
          "model_name": "LayoutModel",
          "state": {
            "_model_module": "@jupyter-widgets/base",
            "_model_module_version": "1.2.0",
            "_model_name": "LayoutModel",
            "_view_count": null,
            "_view_module": "@jupyter-widgets/base",
            "_view_module_version": "1.2.0",
            "_view_name": "LayoutView",
            "align_content": null,
            "align_items": null,
            "align_self": null,
            "border": null,
            "bottom": null,
            "display": null,
            "flex": null,
            "flex_flow": null,
            "grid_area": null,
            "grid_auto_columns": null,
            "grid_auto_flow": null,
            "grid_auto_rows": null,
            "grid_column": null,
            "grid_gap": null,
            "grid_row": null,
            "grid_template_areas": null,
            "grid_template_columns": null,
            "grid_template_rows": null,
            "height": null,
            "justify_content": null,
            "justify_items": null,
            "left": null,
            "margin": null,
            "max_height": null,
            "max_width": null,
            "min_height": null,
            "min_width": null,
            "object_fit": null,
            "object_position": null,
            "order": null,
            "overflow": null,
            "overflow_x": null,
            "overflow_y": null,
            "padding": null,
            "right": null,
            "top": null,
            "visibility": "hidden",
            "width": null
          }
        },
        "a5115eed943a438687e91c25d6cd1f28": {
          "model_module": "@jupyter-widgets/base",
          "model_module_version": "1.2.0",
          "model_name": "LayoutModel",
          "state": {
            "_model_module": "@jupyter-widgets/base",
            "_model_module_version": "1.2.0",
            "_model_name": "LayoutModel",
            "_view_count": null,
            "_view_module": "@jupyter-widgets/base",
            "_view_module_version": "1.2.0",
            "_view_name": "LayoutView",
            "align_content": null,
            "align_items": null,
            "align_self": null,
            "border": null,
            "bottom": null,
            "display": null,
            "flex": null,
            "flex_flow": null,
            "grid_area": null,
            "grid_auto_columns": null,
            "grid_auto_flow": null,
            "grid_auto_rows": null,
            "grid_column": null,
            "grid_gap": null,
            "grid_row": null,
            "grid_template_areas": null,
            "grid_template_columns": null,
            "grid_template_rows": null,
            "height": null,
            "justify_content": null,
            "justify_items": null,
            "left": null,
            "margin": null,
            "max_height": null,
            "max_width": null,
            "min_height": null,
            "min_width": null,
            "object_fit": null,
            "object_position": null,
            "order": null,
            "overflow": null,
            "overflow_x": null,
            "overflow_y": null,
            "padding": null,
            "right": null,
            "top": null,
            "visibility": null,
            "width": null
          }
        },
        "ab32d04af11f478f824d1d6ac9678a37": {
          "model_module": "@jupyter-widgets/base",
          "model_module_version": "1.2.0",
          "model_name": "LayoutModel",
          "state": {
            "_model_module": "@jupyter-widgets/base",
            "_model_module_version": "1.2.0",
            "_model_name": "LayoutModel",
            "_view_count": null,
            "_view_module": "@jupyter-widgets/base",
            "_view_module_version": "1.2.0",
            "_view_name": "LayoutView",
            "align_content": null,
            "align_items": null,
            "align_self": null,
            "border": null,
            "bottom": null,
            "display": null,
            "flex": null,
            "flex_flow": null,
            "grid_area": null,
            "grid_auto_columns": null,
            "grid_auto_flow": null,
            "grid_auto_rows": null,
            "grid_column": null,
            "grid_gap": null,
            "grid_row": null,
            "grid_template_areas": null,
            "grid_template_columns": null,
            "grid_template_rows": null,
            "height": null,
            "justify_content": null,
            "justify_items": null,
            "left": null,
            "margin": null,
            "max_height": null,
            "max_width": null,
            "min_height": null,
            "min_width": null,
            "object_fit": null,
            "object_position": null,
            "order": null,
            "overflow": null,
            "overflow_x": null,
            "overflow_y": null,
            "padding": null,
            "right": null,
            "top": null,
            "visibility": null,
            "width": null
          }
        },
        "ac613356674840f9894602ba48230a9e": {
          "model_module": "@jupyter-widgets/controls",
          "model_module_version": "1.5.0",
          "model_name": "HBoxModel",
          "state": {
            "_dom_classes": [],
            "_model_module": "@jupyter-widgets/controls",
            "_model_module_version": "1.5.0",
            "_model_name": "HBoxModel",
            "_view_count": null,
            "_view_module": "@jupyter-widgets/controls",
            "_view_module_version": "1.5.0",
            "_view_name": "HBoxView",
            "box_style": "",
            "children": [
              "IPY_MODEL_0cb845542039491ab896cf9eaf5529cb",
              "IPY_MODEL_8e1ee5848007407480ec199a7f1bc067",
              "IPY_MODEL_59a74cecbc144db5968701b7ba830876"
            ],
            "layout": "IPY_MODEL_b7a82b7f34a84d89b52f6335fb4b2d5e"
          }
        },
        "acd32b92207f437ca11a1a6642e93565": {
          "model_module": "@jupyter-widgets/controls",
          "model_module_version": "1.5.0",
          "model_name": "FloatProgressModel",
          "state": {
            "_dom_classes": [],
            "_model_module": "@jupyter-widgets/controls",
            "_model_module_version": "1.5.0",
            "_model_name": "FloatProgressModel",
            "_view_count": null,
            "_view_module": "@jupyter-widgets/controls",
            "_view_module_version": "1.5.0",
            "_view_name": "ProgressView",
            "bar_style": "",
            "description": "",
            "description_tooltip": null,
            "layout": "IPY_MODEL_99efcbf76a2743ca8cf17d81d4cf5edc",
            "max": 375,
            "min": 0,
            "orientation": "horizontal",
            "style": "IPY_MODEL_c843bb8f6b7a4a06aa0277297af92ee6",
            "value": 375
          }
        },
        "ad0b307e9cd140b1b7fee477368e58e4": {
          "model_module": "@jupyter-widgets/controls",
          "model_module_version": "1.5.0",
          "model_name": "DescriptionStyleModel",
          "state": {
            "_model_module": "@jupyter-widgets/controls",
            "_model_module_version": "1.5.0",
            "_model_name": "DescriptionStyleModel",
            "_view_count": null,
            "_view_module": "@jupyter-widgets/base",
            "_view_module_version": "1.2.0",
            "_view_name": "StyleView",
            "description_width": ""
          }
        },
        "af3d291dfece4eb3b6644cf148775a86": {
          "model_module": "@jupyter-widgets/controls",
          "model_module_version": "1.5.0",
          "model_name": "DescriptionStyleModel",
          "state": {
            "_model_module": "@jupyter-widgets/controls",
            "_model_module_version": "1.5.0",
            "_model_name": "DescriptionStyleModel",
            "_view_count": null,
            "_view_module": "@jupyter-widgets/base",
            "_view_module_version": "1.2.0",
            "_view_name": "StyleView",
            "description_width": ""
          }
        },
        "b7a82b7f34a84d89b52f6335fb4b2d5e": {
          "model_module": "@jupyter-widgets/base",
          "model_module_version": "1.2.0",
          "model_name": "LayoutModel",
          "state": {
            "_model_module": "@jupyter-widgets/base",
            "_model_module_version": "1.2.0",
            "_model_name": "LayoutModel",
            "_view_count": null,
            "_view_module": "@jupyter-widgets/base",
            "_view_module_version": "1.2.0",
            "_view_name": "LayoutView",
            "align_content": null,
            "align_items": null,
            "align_self": null,
            "border": null,
            "bottom": null,
            "display": null,
            "flex": null,
            "flex_flow": null,
            "grid_area": null,
            "grid_auto_columns": null,
            "grid_auto_flow": null,
            "grid_auto_rows": null,
            "grid_column": null,
            "grid_gap": null,
            "grid_row": null,
            "grid_template_areas": null,
            "grid_template_columns": null,
            "grid_template_rows": null,
            "height": null,
            "justify_content": null,
            "justify_items": null,
            "left": null,
            "margin": null,
            "max_height": null,
            "max_width": null,
            "min_height": null,
            "min_width": null,
            "object_fit": null,
            "object_position": null,
            "order": null,
            "overflow": null,
            "overflow_x": null,
            "overflow_y": null,
            "padding": null,
            "right": null,
            "top": null,
            "visibility": "hidden",
            "width": null
          }
        },
        "bce784a20da94f72aa3353c5fc37099f": {
          "model_module": "@jupyter-widgets/base",
          "model_module_version": "1.2.0",
          "model_name": "LayoutModel",
          "state": {
            "_model_module": "@jupyter-widgets/base",
            "_model_module_version": "1.2.0",
            "_model_name": "LayoutModel",
            "_view_count": null,
            "_view_module": "@jupyter-widgets/base",
            "_view_module_version": "1.2.0",
            "_view_name": "LayoutView",
            "align_content": null,
            "align_items": null,
            "align_self": null,
            "border": null,
            "bottom": null,
            "display": null,
            "flex": null,
            "flex_flow": null,
            "grid_area": null,
            "grid_auto_columns": null,
            "grid_auto_flow": null,
            "grid_auto_rows": null,
            "grid_column": null,
            "grid_gap": null,
            "grid_row": null,
            "grid_template_areas": null,
            "grid_template_columns": null,
            "grid_template_rows": null,
            "height": null,
            "justify_content": null,
            "justify_items": null,
            "left": null,
            "margin": null,
            "max_height": null,
            "max_width": null,
            "min_height": null,
            "min_width": null,
            "object_fit": null,
            "object_position": null,
            "order": null,
            "overflow": null,
            "overflow_x": null,
            "overflow_y": null,
            "padding": null,
            "right": null,
            "top": null,
            "visibility": null,
            "width": null
          }
        },
        "bf1f0e3517fe4beba39a7e6bb5ffa909": {
          "model_module": "@jupyter-widgets/controls",
          "model_module_version": "1.5.0",
          "model_name": "ProgressStyleModel",
          "state": {
            "_model_module": "@jupyter-widgets/controls",
            "_model_module_version": "1.5.0",
            "_model_name": "ProgressStyleModel",
            "_view_count": null,
            "_view_module": "@jupyter-widgets/base",
            "_view_module_version": "1.2.0",
            "_view_name": "StyleView",
            "bar_color": null,
            "description_width": ""
          }
        },
        "c0456615b82c4873a7a4c418e6a51ca6": {
          "model_module": "@jupyter-widgets/base",
          "model_module_version": "1.2.0",
          "model_name": "LayoutModel",
          "state": {
            "_model_module": "@jupyter-widgets/base",
            "_model_module_version": "1.2.0",
            "_model_name": "LayoutModel",
            "_view_count": null,
            "_view_module": "@jupyter-widgets/base",
            "_view_module_version": "1.2.0",
            "_view_name": "LayoutView",
            "align_content": null,
            "align_items": null,
            "align_self": null,
            "border": null,
            "bottom": null,
            "display": null,
            "flex": null,
            "flex_flow": null,
            "grid_area": null,
            "grid_auto_columns": null,
            "grid_auto_flow": null,
            "grid_auto_rows": null,
            "grid_column": null,
            "grid_gap": null,
            "grid_row": null,
            "grid_template_areas": null,
            "grid_template_columns": null,
            "grid_template_rows": null,
            "height": null,
            "justify_content": null,
            "justify_items": null,
            "left": null,
            "margin": null,
            "max_height": null,
            "max_width": null,
            "min_height": null,
            "min_width": null,
            "object_fit": null,
            "object_position": null,
            "order": null,
            "overflow": null,
            "overflow_x": null,
            "overflow_y": null,
            "padding": null,
            "right": null,
            "top": null,
            "visibility": "hidden",
            "width": null
          }
        },
        "c843bb8f6b7a4a06aa0277297af92ee6": {
          "model_module": "@jupyter-widgets/controls",
          "model_module_version": "1.5.0",
          "model_name": "ProgressStyleModel",
          "state": {
            "_model_module": "@jupyter-widgets/controls",
            "_model_module_version": "1.5.0",
            "_model_name": "ProgressStyleModel",
            "_view_count": null,
            "_view_module": "@jupyter-widgets/base",
            "_view_module_version": "1.2.0",
            "_view_name": "StyleView",
            "bar_color": null,
            "description_width": ""
          }
        },
        "cfd641866d864573a4faa563e072b002": {
          "model_module": "@jupyter-widgets/base",
          "model_module_version": "1.2.0",
          "model_name": "LayoutModel",
          "state": {
            "_model_module": "@jupyter-widgets/base",
            "_model_module_version": "1.2.0",
            "_model_name": "LayoutModel",
            "_view_count": null,
            "_view_module": "@jupyter-widgets/base",
            "_view_module_version": "1.2.0",
            "_view_name": "LayoutView",
            "align_content": null,
            "align_items": null,
            "align_self": null,
            "border": null,
            "bottom": null,
            "display": null,
            "flex": null,
            "flex_flow": null,
            "grid_area": null,
            "grid_auto_columns": null,
            "grid_auto_flow": null,
            "grid_auto_rows": null,
            "grid_column": null,
            "grid_gap": null,
            "grid_row": null,
            "grid_template_areas": null,
            "grid_template_columns": null,
            "grid_template_rows": null,
            "height": null,
            "justify_content": null,
            "justify_items": null,
            "left": null,
            "margin": null,
            "max_height": null,
            "max_width": null,
            "min_height": null,
            "min_width": null,
            "object_fit": null,
            "object_position": null,
            "order": null,
            "overflow": null,
            "overflow_x": null,
            "overflow_y": null,
            "padding": null,
            "right": null,
            "top": null,
            "visibility": null,
            "width": null
          }
        },
        "d64161b9192e4682810f1cb5579f16fb": {
          "model_module": "@jupyter-widgets/base",
          "model_module_version": "1.2.0",
          "model_name": "LayoutModel",
          "state": {
            "_model_module": "@jupyter-widgets/base",
            "_model_module_version": "1.2.0",
            "_model_name": "LayoutModel",
            "_view_count": null,
            "_view_module": "@jupyter-widgets/base",
            "_view_module_version": "1.2.0",
            "_view_name": "LayoutView",
            "align_content": null,
            "align_items": null,
            "align_self": null,
            "border": null,
            "bottom": null,
            "display": null,
            "flex": null,
            "flex_flow": null,
            "grid_area": null,
            "grid_auto_columns": null,
            "grid_auto_flow": null,
            "grid_auto_rows": null,
            "grid_column": null,
            "grid_gap": null,
            "grid_row": null,
            "grid_template_areas": null,
            "grid_template_columns": null,
            "grid_template_rows": null,
            "height": null,
            "justify_content": null,
            "justify_items": null,
            "left": null,
            "margin": null,
            "max_height": null,
            "max_width": null,
            "min_height": null,
            "min_width": null,
            "object_fit": null,
            "object_position": null,
            "order": null,
            "overflow": null,
            "overflow_x": null,
            "overflow_y": null,
            "padding": null,
            "right": null,
            "top": null,
            "visibility": null,
            "width": null
          }
        },
        "d8bece600f304acab7e70bd92f833d67": {
          "model_module": "@jupyter-widgets/controls",
          "model_module_version": "1.5.0",
          "model_name": "HBoxModel",
          "state": {
            "_dom_classes": [],
            "_model_module": "@jupyter-widgets/controls",
            "_model_module_version": "1.5.0",
            "_model_name": "HBoxModel",
            "_view_count": null,
            "_view_module": "@jupyter-widgets/controls",
            "_view_module_version": "1.5.0",
            "_view_name": "HBoxView",
            "box_style": "",
            "children": [
              "IPY_MODEL_153f998ca80b4bada6e518aa2b695fb1",
              "IPY_MODEL_acd32b92207f437ca11a1a6642e93565",
              "IPY_MODEL_8627cb6499a0493abf07f69cd47d04fd"
            ],
            "layout": "IPY_MODEL_a058639025f8446a91b1b87007267250"
          }
        },
        "dd2e768cec6f407686464e126fa85255": {
          "model_module": "@jupyter-widgets/base",
          "model_module_version": "1.2.0",
          "model_name": "LayoutModel",
          "state": {
            "_model_module": "@jupyter-widgets/base",
            "_model_module_version": "1.2.0",
            "_model_name": "LayoutModel",
            "_view_count": null,
            "_view_module": "@jupyter-widgets/base",
            "_view_module_version": "1.2.0",
            "_view_name": "LayoutView",
            "align_content": null,
            "align_items": null,
            "align_self": null,
            "border": null,
            "bottom": null,
            "display": null,
            "flex": null,
            "flex_flow": null,
            "grid_area": null,
            "grid_auto_columns": null,
            "grid_auto_flow": null,
            "grid_auto_rows": null,
            "grid_column": null,
            "grid_gap": null,
            "grid_row": null,
            "grid_template_areas": null,
            "grid_template_columns": null,
            "grid_template_rows": null,
            "height": null,
            "justify_content": null,
            "justify_items": null,
            "left": null,
            "margin": null,
            "max_height": null,
            "max_width": null,
            "min_height": null,
            "min_width": null,
            "object_fit": null,
            "object_position": null,
            "order": null,
            "overflow": null,
            "overflow_x": null,
            "overflow_y": null,
            "padding": null,
            "right": null,
            "top": null,
            "visibility": null,
            "width": null
          }
        },
        "df7d7984a01c438d9a9c8d1d3e577478": {
          "model_module": "@jupyter-widgets/controls",
          "model_module_version": "1.5.0",
          "model_name": "HTMLModel",
          "state": {
            "_dom_classes": [],
            "_model_module": "@jupyter-widgets/controls",
            "_model_module_version": "1.5.0",
            "_model_name": "HTMLModel",
            "_view_count": null,
            "_view_module": "@jupyter-widgets/controls",
            "_view_module_version": "1.5.0",
            "_view_name": "HTMLView",
            "description": "",
            "description_tooltip": null,
            "layout": "IPY_MODEL_57b6bf98d74b46fe98fd536f7bac77b1",
            "placeholder": "​",
            "style": "IPY_MODEL_f43baa9b86894d98ad034e01a5c92a4f",
            "value": ", loss=1.31 [00:24&lt;00:00]"
          }
        },
        "df83b7d8fb4b4079a07f603f315754cd": {
          "model_module": "@jupyter-widgets/base",
          "model_module_version": "1.2.0",
          "model_name": "LayoutModel",
          "state": {
            "_model_module": "@jupyter-widgets/base",
            "_model_module_version": "1.2.0",
            "_model_name": "LayoutModel",
            "_view_count": null,
            "_view_module": "@jupyter-widgets/base",
            "_view_module_version": "1.2.0",
            "_view_name": "LayoutView",
            "align_content": null,
            "align_items": null,
            "align_self": null,
            "border": null,
            "bottom": null,
            "display": null,
            "flex": null,
            "flex_flow": null,
            "grid_area": null,
            "grid_auto_columns": null,
            "grid_auto_flow": null,
            "grid_auto_rows": null,
            "grid_column": null,
            "grid_gap": null,
            "grid_row": null,
            "grid_template_areas": null,
            "grid_template_columns": null,
            "grid_template_rows": null,
            "height": null,
            "justify_content": null,
            "justify_items": null,
            "left": null,
            "margin": null,
            "max_height": null,
            "max_width": null,
            "min_height": null,
            "min_width": null,
            "object_fit": null,
            "object_position": null,
            "order": null,
            "overflow": null,
            "overflow_x": null,
            "overflow_y": null,
            "padding": null,
            "right": null,
            "top": null,
            "visibility": null,
            "width": null
          }
        },
        "e41ac9676da444bf95020ee0e88cebf2": {
          "model_module": "@jupyter-widgets/base",
          "model_module_version": "1.2.0",
          "model_name": "LayoutModel",
          "state": {
            "_model_module": "@jupyter-widgets/base",
            "_model_module_version": "1.2.0",
            "_model_name": "LayoutModel",
            "_view_count": null,
            "_view_module": "@jupyter-widgets/base",
            "_view_module_version": "1.2.0",
            "_view_name": "LayoutView",
            "align_content": null,
            "align_items": null,
            "align_self": null,
            "border": null,
            "bottom": null,
            "display": null,
            "flex": null,
            "flex_flow": null,
            "grid_area": null,
            "grid_auto_columns": null,
            "grid_auto_flow": null,
            "grid_auto_rows": null,
            "grid_column": null,
            "grid_gap": null,
            "grid_row": null,
            "grid_template_areas": null,
            "grid_template_columns": null,
            "grid_template_rows": null,
            "height": null,
            "justify_content": null,
            "justify_items": null,
            "left": null,
            "margin": null,
            "max_height": null,
            "max_width": null,
            "min_height": null,
            "min_width": null,
            "object_fit": null,
            "object_position": null,
            "order": null,
            "overflow": null,
            "overflow_x": null,
            "overflow_y": null,
            "padding": null,
            "right": null,
            "top": null,
            "visibility": "hidden",
            "width": null
          }
        },
        "f43baa9b86894d98ad034e01a5c92a4f": {
          "model_module": "@jupyter-widgets/controls",
          "model_module_version": "1.5.0",
          "model_name": "DescriptionStyleModel",
          "state": {
            "_model_module": "@jupyter-widgets/controls",
            "_model_module_version": "1.5.0",
            "_model_name": "DescriptionStyleModel",
            "_view_count": null,
            "_view_module": "@jupyter-widgets/base",
            "_view_module_version": "1.2.0",
            "_view_name": "StyleView",
            "description_width": ""
          }
        },
        "f9cb86e9da914fc288aa1463e151a56c": {
          "model_module": "@jupyter-widgets/controls",
          "model_module_version": "1.5.0",
          "model_name": "HTMLModel",
          "state": {
            "_dom_classes": [],
            "_model_module": "@jupyter-widgets/controls",
            "_model_module_version": "1.5.0",
            "_model_name": "HTMLModel",
            "_view_count": null,
            "_view_module": "@jupyter-widgets/controls",
            "_view_module_version": "1.5.0",
            "_view_name": "HTMLView",
            "description": "",
            "description_tooltip": null,
            "layout": "IPY_MODEL_bce784a20da94f72aa3353c5fc37099f",
            "placeholder": "​",
            "style": "IPY_MODEL_2e65dd8d7bb747abb87fcc9721772bda",
            "value": ", loss=1.19 [00:24&lt;00:00]"
          }
        },
        "fbb7769ed9a643cf9de5ba496934de6b": {
          "model_module": "@jupyter-widgets/controls",
          "model_module_version": "1.5.0",
          "model_name": "HTMLModel",
          "state": {
            "_dom_classes": [],
            "_model_module": "@jupyter-widgets/controls",
            "_model_module_version": "1.5.0",
            "_model_name": "HTMLModel",
            "_view_count": null,
            "_view_module": "@jupyter-widgets/controls",
            "_view_module_version": "1.5.0",
            "_view_name": "HTMLView",
            "description": "",
            "description_tooltip": null,
            "layout": "IPY_MODEL_dd2e768cec6f407686464e126fa85255",
            "placeholder": "​",
            "style": "IPY_MODEL_af3d291dfece4eb3b6644cf148775a86",
            "value": "Epoch [4/5]: [375/375] 100%"
          }
        }
      }
    }
  },
  "nbformat": 4,
  "nbformat_minor": 0
}
